{
  "nbformat": 4,
  "nbformat_minor": 0,
  "metadata": {
    "colab": {
      "provenance": []
    },
    "kernelspec": {
      "name": "python3",
      "display_name": "Python 3"
    },
    "language_info": {
      "name": "python"
    }
  },
  "cells": [
    {
      "cell_type": "markdown",
      "source": [
        "1.What is Object-Oriented Programming (OOP)?\n",
        "\n",
        "Ans:-Object-Oriented Programming (OOP) is a programming paradigm that structures software design around data (objects) rather than functions and logic. It focuses on creating reusable, modular, and maintainable code by using objects that contain both data and methods (functions) to operate on that data."
      ],
      "metadata": {
        "id": "j68c6fqaiSPF"
      }
    },
    {
      "cell_type": "markdown",
      "source": [
        "2.What is a class in OOP?\n",
        "\n",
        "Ans:-A class is a blueprint or template for creating objects."
      ],
      "metadata": {
        "id": "XNWN55yhitw8"
      }
    },
    {
      "cell_type": "markdown",
      "source": [
        "3.What is an object in OOP?\n",
        "\n",
        "Ans:-An object is a fundamental building block. It's a self-contained unit that combines data (attributes) and the operations (methods) that can be performed on that data.\n"
      ],
      "metadata": {
        "id": "hlXoPaDni6yk"
      }
    },
    {
      "cell_type": "markdown",
      "source": [
        "4.What is the difference between abstraction and encapsulation?\n",
        "\n",
        "Ans:-**Encapsulation** is the bundling of data (attributes) and the methods (functions) that operate on that data into a single unit, typically a class. It also involves restricting direct access to some of the object's components, controlling how the data can be accessed and modified\n",
        "\n",
        "**Abstraction** is the process of simplifying complex reality by modeling classes based on essential properties and behaviors, while hiding unnecessary details. It focuses on \"what\" an object does rather than \"how\" it does it.\n"
      ],
      "metadata": {
        "id": "L2GVm5kxjZR-"
      }
    },
    {
      "cell_type": "markdown",
      "source": [
        "5.What are dunder methods in Python?\n",
        "\n",
        "Ans:-Dunder methods, also known as \"magic methods\" or \"special methods,\" are methods in Python that have double underscores at both the beginning and end of their names (e.g., __init__, __str__, __add__). These methods allow custom objects to interact with Python's built-in operations and functions, enabling them to behave like native Python types."
      ],
      "metadata": {
        "id": "OpfGKFenkTDX"
      }
    },
    {
      "cell_type": "markdown",
      "source": [
        "6.Explain the concept of inheritance in\n",
        "OOP?\n",
        "\n",
        "Ans:-Inheritance in Object-Oriented Programming (OOP) is a mechanism where a new class (child or derived class) can inherit properties and behaviors (methods) from an existing class (parent or base class). This promotes code reusability and establishes a hierarchical relationship between classes, making the code more organized and efficient.\n"
      ],
      "metadata": {
        "id": "FpfCzpjrkmaT"
      }
    },
    {
      "cell_type": "markdown",
      "source": [
        "7.What is polymorphism in OOP?\n",
        "\n",
        "Ans:-Polymorphism is the ability of an object to take on many forms or exhibit different behaviors based on its class or type. It allows a single action to be performed in different ways, enhancing code flexibility and reusability."
      ],
      "metadata": {
        "id": "wP0a8k6Bk6eH"
      }
    },
    {
      "cell_type": "markdown",
      "source": [
        "8.How is encapsulation achieved in Python?\n",
        "\n",
        "Ans:-In Python, encapsulation refers to the bundling of data (attributes) and methods (functions) that operate on the data into a single unit, typically a class. It also restricts direct access to some components, which helps protect the integrity of the data and ensures proper usage.\n"
      ],
      "metadata": {
        "id": "fhXXiZ0-lWKX"
      }
    },
    {
      "cell_type": "markdown",
      "source": [
        "9.What is a constructor in Python?\n",
        "\n",
        "Ans:-A constructor is a special method used to initialize new objects of a class. It is automatically invoked when an object (an instance of the class) is created.\n"
      ],
      "metadata": {
        "id": "OtFKQ2oZl3ID"
      }
    },
    {
      "cell_type": "markdown",
      "source": [
        "10.What are class and static methods in Python?\n",
        "\n",
        "Ans:-\n"
      ],
      "metadata": {
        "id": "E0sTZSksmKn1"
      }
    },
    {
      "cell_type": "markdown",
      "metadata": {
        "id": "d9eefa73"
      },
      "source": [
        "10.What are class and static methods in Python?\n",
        "\n",
        "Ans:-**Class methods** are methods that are bound to the class and receive the class itself as the first argument (conventionally named `cls`). They are often used to create factory methods or to access/modify class-level attributes. They can be called on either the class or an instance of the class.\n",
        "\n",
        "**Static methods** are methods that are bound to the class but do not receive either the class or the instance as the first argument. They are essentially regular functions defined within a class and are typically used for utility functions that are related to the class but do not need access to class or instance-specific data. They are called on the class itself."
      ]
    },
    {
      "cell_type": "markdown",
      "source": [],
      "metadata": {
        "id": "NfhGjaj6mWuy"
      }
    },
    {
      "cell_type": "markdown",
      "metadata": {
        "id": "8a99d331"
      },
      "source": [
        "11.What is method overloading in Python?\n",
        "\n",
        "Ans:-Method overloading is a concept where a class can have multiple methods with the same name but different parameters. However, Python does not support method overloading in the same way that some other programming languages (like Java or C++) do. If you define multiple methods with the same name in a Python class, the last defined method will override the previous ones.\n"
      ]
    },
    {
      "cell_type": "markdown",
      "source": [
        "12. What is method overriding in OOP?\n",
        "\n",
        "Ans:-Method overriding in Object-Oriented Programming (OOP) is a feature that allows a subclass to provide a specific implementation of a method that is already defined in its superclass. This enables the subclass to tailor the behavior of the inherited method to its own specific needs while maintaining the same method signature (name, parameters, and return type) as the superclass method.\n"
      ],
      "metadata": {
        "id": "nhItZgNUmxMb"
      }
    },
    {
      "cell_type": "markdown",
      "source": [
        "13.What is a property decorator in Python?\n",
        "Ans:-A property decorator in Python, denoted as @property, is a built-in decorator that allows methods within a class to be accessed and managed like attributes. It provides a clean and Pythonic way to implement \"managed attributes\" by encapsulating the logic for getting, setting, and deleting an attribute's value.\n",
        "\n"
      ],
      "metadata": {
        "id": "jKD3NYlqm_Z7"
      }
    },
    {
      "cell_type": "markdown",
      "source": [
        "14.Why is polymorphism important in OOP?\n",
        "\n",
        "Ans:-Polymorphism is crucial in object-oriented programming (OOP) because it allows objects of different classes to be treated as objects of a common type, enhancing code reusability, flexibility, and maintainability. It enables a single interface to be used for diverse objects, promoting a more modular and extensible design.\n"
      ],
      "metadata": {
        "id": "2bgp1zbynOvf"
      }
    },
    {
      "cell_type": "markdown",
      "source": [
        "15.What is an abstract class in Python?\n",
        "\n",
        "Ans:-In Python, an abstract class is a class that cannot be instantiated directly and serves as a blueprint for other classes. It is designed to be inherited by subclasses, which are then responsible for providing concrete implementations for any abstract methods defined in the abstract class.\n"
      ],
      "metadata": {
        "id": "ZVp9EMBHnblZ"
      }
    },
    {
      "cell_type": "markdown",
      "source": [
        "16. What are the advantages of OOP?\n",
        "\n",
        "Ans:-Object-Oriented Programming (OOP) offers several advantages, including modularity, code reusability, easier maintenance, and improved scalability\n",
        ".\n"
      ],
      "metadata": {
        "id": "mSQEvrZgnpsd"
      }
    },
    {
      "cell_type": "markdown",
      "source": [
        "17.What is the difference between a class variable and an instance variable?\n",
        "\n",
        "Ans:- Class variables are shared by all instances of a class, while instance variables are unique to each object created from that class.\n"
      ],
      "metadata": {
        "id": "f9iwMNzQn-Yx"
      }
    },
    {
      "cell_type": "markdown",
      "source": [
        "18.What is multiple inheritance in Python?\n",
        "Ans:-Multiple inheritance in Python is a feature of object-oriented programming where a class can inherit attributes and methods from more than one parent class. This means a single child class can be derived from two or more base classes, gaining access to the functionalities defined in all of its parent classes.\n"
      ],
      "metadata": {
        "id": "1FRgyqern8z0"
      }
    },
    {
      "cell_type": "markdown",
      "source": [
        "19.Explain the purpose of ‘’__str__’ and ‘__repr__’ ‘ methods in Python?\n",
        "\n",
        "Ans:-To provide a human-readable or informal string representation of an object. This representation is intended for end-users, logging, or displaying object information in a clear and concise manner."
      ],
      "metadata": {
        "id": "t1c_XU3Soi4N"
      }
    },
    {
      "cell_type": "markdown",
      "source": [
        "20.What is the significance of the ‘super()’ function in Python?\n",
        "\n",
        "Ans:- The super() function in Python is a built-in function that provides a way to access methods and attributes of a parent or sibling class in an inheritance hierarchy. Its significance lies in facilitating proper object-oriented programming practices, particularly in scenarios involving inheritance:\n",
        "\n"
      ],
      "metadata": {
        "id": "lBGLXIdGowuT"
      }
    },
    {
      "cell_type": "markdown",
      "source": [
        "21.What is the significance of the __del__ method in Python?\n",
        "\n",
        "Ans:- The __del__ method in Python, often referred to as a destructor, holds significance in object lifecycle management, particularly for resource cleanup.\n",
        "\n"
      ],
      "metadata": {
        "id": "8PS-61YspHz5"
      }
    },
    {
      "cell_type": "markdown",
      "source": [
        "22.What is the difference between @staticmethod and @classmethod in Python?\n",
        "\n",
        "Ans:-@classmethod:\n",
        "\n",
        "*   \n",
        "Takes the class itself (cls) as its first argument, conventionally named cls.\n",
        "* Can access and modify class-level attributes and call other class methods.\n",
        "* Is typically used for methods that operate on the class as a whole, such as alternative constructors or methods that modify class state.\n",
        "\n",
        "\n",
        "\n",
        "\n",
        "@staticmethod:\n",
        "*  Does not implicitly receive the instance (self) or the class (cls) as its first argument.\n",
        "*  Behaves like a regular function defined within the class's namespace\n",
        "*Cannot directly access or modify class or instance attributes without explicitly passing them as arguments.\n",
        "* Is generally used for utility functions that are logically related to the class but do not depend on the class's state or any specific instance\n"
      ],
      "metadata": {
        "id": "sAe1F6AwpVPH"
      }
    },
    {
      "cell_type": "markdown",
      "source": [
        "23.How does polymorphism work in Python with inheritance?\n",
        "\n",
        "Ans:-Polymorphism in Python, when combined with inheritance, allows objects of different classes to be treated as instances of a common superclass, while still allowing each object to respond to the same method call in its own specific way. This is primarily achieved through method overriding.\n"
      ],
      "metadata": {
        "id": "Axkc4dCgqYB-"
      }
    },
    {
      "cell_type": "markdown",
      "source": [
        "24.What is method chaining in Python OOP?\n",
        "\n",
        "Ans:-Method chaining in Python Object-Oriented Programming (OOP) is a technique that allows for the sequential invocation of multiple methods on the same object within a single line of code. This is achieved by having each method in the chain return the object itself (self), enabling the next method to be called directly on the returned object.\n"
      ],
      "metadata": {
        "id": "xByYTkwbqqtz"
      }
    },
    {
      "cell_type": "markdown",
      "source": [
        "25.What is the purpose of the __call__ method in Python?\n",
        "\n",
        "Ans:-The __call__ method in Python serves the purpose of making instances of a class callable, allowing them to be invoked like functions. When an object that has a __call__ method defined is \"called\" using parentheses, Python automatically executes the __call__ method of that object."
      ],
      "metadata": {
        "id": "7jJNg2C8q18w"
      }
    },
    {
      "cell_type": "markdown",
      "source": [
        "practical Questions"
      ],
      "metadata": {
        "id": "zk9Ne3MErIDQ"
      }
    },
    {
      "cell_type": "code",
      "source": [
        "'''1.Create a parent class Animal with a method speak() that prints a generic message. Create a child class Dog\n",
        "that overrides the speak() method to print \"Bark!\".'''\n",
        "#Ans:-\n",
        "class Parent:\n",
        "  def speak(self):\n",
        "    print(\"bolo ji kese ho?\")\n",
        "class Dog(Parent):\n",
        "  def speak(self):\n",
        "    print(\"bark\")\n",
        "obj=Dog()\n",
        "obj.speak()\n"
      ],
      "metadata": {
        "id": "FPPcyzP6rL3D",
        "colab": {
          "base_uri": "https://localhost:8080/"
        },
        "outputId": "b9ea75c1-60df-41f2-8a8a-b0ebfcaeffd8"
      },
      "execution_count": 3,
      "outputs": [
        {
          "output_type": "stream",
          "name": "stdout",
          "text": [
            "bark\n"
          ]
        }
      ]
    },
    {
      "cell_type": "code",
      "source": [
        "'''2. Write a program to create an abstract class Shape with a method area(). Derive classes Circle and Rectangle\n",
        "from it and implement the area() method in both.'''\n",
        "#ans:-\n",
        "class Shape():\n",
        "  def area(self):\n",
        "    pass\n",
        "class Circle(Shape):\n",
        "  def area(self,radius):\n",
        "    self.radius=radius\n",
        "    return 3.14*self.radius*self.radius\n",
        "class Rectangle(Shape):\n",
        "  def area(self,length,width):\n",
        "    self.length=length\n",
        "    self.width=width\n",
        "    return self.length*self.width\n",
        "obj1=Circle()\n",
        "print(obj1.area(5))\n",
        "obj2=Rectangle()\n",
        "obj2.area(5,6)"
      ],
      "metadata": {
        "colab": {
          "base_uri": "https://localhost:8080/"
        },
        "id": "a28WT6QuF36b",
        "outputId": "9c4fdda4-f715-4392-d668-b4c10ed730ef"
      },
      "execution_count": 6,
      "outputs": [
        {
          "output_type": "stream",
          "name": "stdout",
          "text": [
            "78.5\n"
          ]
        },
        {
          "output_type": "execute_result",
          "data": {
            "text/plain": [
              "30"
            ]
          },
          "metadata": {},
          "execution_count": 6
        }
      ]
    },
    {
      "cell_type": "code",
      "source": [
        "from typing_extensions import Self\n",
        "'''3. Implement a multi-level inheritance scenario where a class Vehicle has an attribute type. Derive a class Car\n",
        "and further derive a class ElectricCar that adds a battery attribute.'''\n",
        "#Ans:-\n",
        "class Vehicle:\n",
        "  def __init__(self,type):\n",
        "    self.type=type\n",
        "    def display(self):\n",
        "      print(self.type)\n",
        "class car(Vehicle):\n",
        "  def __init__(self,type,color):\n",
        "    self.color=color\n",
        "    super().__init__(type)\n",
        "  def display(self):\n",
        "    print(self.type,self.color)\n",
        "class ElectricCar(car):\n",
        "  def __init__(self,type,color,battery):\n",
        "    self.battery=battery\n",
        "    super().__init__(type,color)\n",
        "  def display(self):\n",
        "    print(self.type,self.color,self.battery)\n",
        "obj=ElectricCar(\"electric\",\"black\",\"50000mah\")\n",
        "obj.display()"
      ],
      "metadata": {
        "colab": {
          "base_uri": "https://localhost:8080/"
        },
        "id": "eJwP37-JHnSY",
        "outputId": "04844bd8-d0ad-4108-9c59-8addedc35e75"
      },
      "execution_count": 10,
      "outputs": [
        {
          "output_type": "stream",
          "name": "stdout",
          "text": [
            "electric black 50000mah\n"
          ]
        }
      ]
    },
    {
      "cell_type": "code",
      "source": [
        "'''4. Demonstrate polymorphism by creating a base class Bird with a method fly(). Create two derived classes\n",
        "Sparrow and Penguin that override the fly() method'''\n",
        "#Ans:-\n",
        "class Bird:\n",
        "  def fly(self):\n",
        "    print(\"bird is flying\")\n",
        "class Sparrow(Bird):\n",
        "  def fly(self):\n",
        "    print(\"sparrow is flying\")\n",
        "class Penguin(Bird):\n",
        "  def fly(self):\n",
        "    print(\"penguin is not flying\")\n",
        "obj=Bird()\n",
        "obj1=Sparrow()\n",
        "obj2=Penguin()\n",
        "obj.fly()\n",
        "obj1.fly()\n",
        "obj2.fly()"
      ],
      "metadata": {
        "colab": {
          "base_uri": "https://localhost:8080/"
        },
        "id": "-_CRpXf2J3qx",
        "outputId": "a7c3768a-2a60-49be-eeb4-32d4a272c8ba"
      },
      "execution_count": 11,
      "outputs": [
        {
          "output_type": "stream",
          "name": "stdout",
          "text": [
            "bird is flying\n",
            "sparrow is flying\n",
            "penguin is not flying\n"
          ]
        }
      ]
    },
    {
      "cell_type": "code",
      "source": [
        "'''5. Write a program to demonstrate encapsulation by creating a class BankAccount with private attributes\n",
        "balance and methods to deposit, withdraw, and check balance.'''\n",
        "\n",
        "#ans:-\n",
        "class BankAccount():\n",
        "  def __init__(self,balance):\n",
        "    self.__balance=balance\n",
        "  def deposite(self,amount):\n",
        "    self.amount=amount\n",
        "    self.__balance=self.__balance+amount\n",
        "    return self.__balance\n",
        "  def withdraw(self,amount):\n",
        "    if self.__balance>=amount:\n",
        "      self.__balance=self.__balance-amount\n",
        "      return self.__balance\n",
        "    else:\n",
        "      print(\"insufficient balance\")\n",
        "  def checkbalance(self):\n",
        "    return self.__balance\n",
        "\n",
        "obj=BankAccount(1000)\n",
        "obj.withdraw(500)\n",
        "obj.deposite(500)\n",
        "obj.checkbalance()"
      ],
      "metadata": {
        "colab": {
          "base_uri": "https://localhost:8080/"
        },
        "id": "ysZXLgNBKPBw",
        "outputId": "75d8cb2c-1620-4f91-dd4b-c3eb8ec30d06"
      },
      "execution_count": 36,
      "outputs": [
        {
          "output_type": "execute_result",
          "data": {
            "text/plain": [
              "1000"
            ]
          },
          "metadata": {},
          "execution_count": 36
        }
      ]
    },
    {
      "cell_type": "code",
      "source": [
        "'''6. Demonstrate runtime polymorphism using a method play() in a base class Instrument. Derive classes Guitar\n",
        "and Piano that implement their own version of play().'''\n",
        "#Ans:-\n",
        "class Instrument():\n",
        "  def play(self):\n",
        "    print(\"instrument is playing\")\n",
        "class Guitar(Instrument):\n",
        "  def play(self):\n",
        "    print(\"guitar is playing\")\n",
        "class Piano(Instrument):\n",
        "  def play(self):\n",
        "    print(\"piano is playing\")\n",
        "obj=Instrument()\n",
        "obj1=Guitar()\n",
        "obj2=Piano()\n",
        "obj.play()\n",
        "obj1.play()\n",
        "obj2.play()"
      ],
      "metadata": {
        "colab": {
          "base_uri": "https://localhost:8080/"
        },
        "id": "4K-AmJy8OIz0",
        "outputId": "bff7cdc5-ddc8-4094-d3d5-4b302d3c7b64"
      },
      "execution_count": 39,
      "outputs": [
        {
          "output_type": "stream",
          "name": "stdout",
          "text": [
            "instrument is playing\n",
            "guitar is playing\n",
            "piano is playing\n"
          ]
        }
      ]
    },
    {
      "cell_type": "code",
      "source": [
        "'''7. Create a class MathOperations with a class method add_numbers() to add two numbers and a static\n",
        "method subtract_numbers() to subtract two numbers.'''\n",
        "#ans:-\n",
        "class MathOperations:\n",
        "  @classmethod\n",
        "  def add_numbers(cls,num1,num2):\n",
        "    return num1+num2\n",
        "  @staticmethod\n",
        "  def subtract_numbers(num1,num2):\n",
        "    return num1-num2\n",
        "MathOperations.add_numbers(5,6)\n",
        "MathOperations.subtract_numbers(5,6)"
      ],
      "metadata": {
        "id": "WoxpeI_WPDV5"
      },
      "execution_count": 43,
      "outputs": []
    },
    {
      "cell_type": "code",
      "source": [
        "#8. Implement a class Person with a class method to count the total number of persons created\n",
        "#Ans:-\n",
        "class Person:\n",
        "  count=0\n",
        "  def __init__(self,name,age):\n",
        "    self.name=name\n",
        "    self.age=age\n",
        "    Person.count+=1\n",
        "  @classmethod\n",
        "  def get_count(cls):\n",
        "    return cls.count\n",
        "Person(\"gagan\",23)\n",
        "Person(\"dhruv\",24)\n",
        "Person.get_count()\n",
        "\n"
      ],
      "metadata": {
        "colab": {
          "base_uri": "https://localhost:8080/"
        },
        "id": "saIkWILXPdUc",
        "outputId": "f5df6afe-090c-4fb9-c529-87a0d97eff06"
      },
      "execution_count": 45,
      "outputs": [
        {
          "output_type": "execute_result",
          "data": {
            "text/plain": [
              "2"
            ]
          },
          "metadata": {},
          "execution_count": 45
        }
      ]
    },
    {
      "cell_type": "code",
      "source": [
        "'''9. Write a class Fraction with attributes numerator and denominator. Override the str method to display the\n",
        "fraction as \"numerator/denominator\".'''\n",
        "#Ans:-\n",
        "class Fraction:\n",
        "  def __init__(self,numerator,denominator):\n",
        "    self.numerator=numerator\n",
        "    self.denominator=denominator\n",
        "  def __str__(self):\n",
        "    return f\"{self.numerator}/{self.denominator}\"\n",
        "obj=Fraction(5,6)\n",
        "print(obj)"
      ],
      "metadata": {
        "colab": {
          "base_uri": "https://localhost:8080/"
        },
        "id": "BbwvSyEuQuZG",
        "outputId": "d04aceaa-70c6-45b2-fb20-e8464c92a55d"
      },
      "execution_count": 49,
      "outputs": [
        {
          "output_type": "stream",
          "name": "stdout",
          "text": [
            "5/6\n"
          ]
        }
      ]
    },
    {
      "cell_type": "code",
      "source": [
        "'''10. Demonstrate operator overloading by creating a class Vector and overriding the add method to add two\n",
        "vectors'''\n",
        "#Ans:-\n",
        "class Vector:\n",
        "  def __init__(self,x,y):\n",
        "    self.x=x\n",
        "    self.y=y\n",
        "  def __add__(self,other):\n",
        "    return Vector(self.x+other.x,self.y+other.y)\n",
        "  def __repr__(self):\n",
        "       return f\"Vector({self.x}, {self.y})\"\n",
        "\n",
        "vector1 = Vector(2, 3)\n",
        "vector2 = Vector(4, 6)\n",
        "\n",
        "sum_vector = vector1 + vector2\n",
        "\n",
        "print(sum_vector)\n"
      ],
      "metadata": {
        "colab": {
          "base_uri": "https://localhost:8080/"
        },
        "id": "RNc48LP-QwfN",
        "outputId": "6a1e061c-3b22-4b17-c973-42b8126fc799"
      },
      "execution_count": 58,
      "outputs": [
        {
          "output_type": "stream",
          "name": "stdout",
          "text": [
            "Vector(6, 9)\n"
          ]
        }
      ]
    },
    {
      "cell_type": "code",
      "source": [
        "'''11. Create a class Person with attributes name and age. Add a method greet() that prints \"Hello, my name is\n",
        "{name} and I am {age} years old.'''\n",
        "#Ans:-\n",
        "class Person:\n",
        "  def __init__(self,name,age):\n",
        "    self.name=name\n",
        "    self.age=age\n",
        "  def greet(self):\n",
        "    print(f\"hello my name is {self.name} and I am {self.age} year old.\")\n",
        "obj =Person(\"gagan\",23)\n",
        "obj.greet()"
      ],
      "metadata": {
        "colab": {
          "base_uri": "https://localhost:8080/"
        },
        "id": "7SCr0sjcUBvt",
        "outputId": "8ab7b667-a93f-47bb-c01e-518ecfed0a83"
      },
      "execution_count": 63,
      "outputs": [
        {
          "output_type": "stream",
          "name": "stdout",
          "text": [
            "hello my name is gagan and I am 23 year old.\n"
          ]
        }
      ]
    },
    {
      "cell_type": "code",
      "source": [
        "'''2. Implement a class Student with attributes name and grades. Create a method average_grade() to compute\n",
        "the average of the grades.'''\n",
        "#ans:-\n",
        "class Student:\n",
        "  def __init__(self,name, grades):\n",
        "    self.name=name\n",
        "    self.grades=grades\n",
        "  def average_grades(self):\n",
        "    return sum(self.grades)/len(self.grades)\n",
        "obj=Student(\"Gagan\",[90,77,71,87,95])\n",
        "obj.average_grades()"
      ],
      "metadata": {
        "colab": {
          "base_uri": "https://localhost:8080/"
        },
        "id": "WQ3EhVdwUBhl",
        "outputId": "1a90987c-908c-406d-91b8-6b201a9fcf18"
      },
      "execution_count": 66,
      "outputs": [
        {
          "output_type": "execute_result",
          "data": {
            "text/plain": [
              "84.0"
            ]
          },
          "metadata": {},
          "execution_count": 66
        }
      ]
    },
    {
      "cell_type": "code",
      "source": [
        "'''13. Create a class Rectangle with methods set_dimensions() to set the dimensions and area() to calculate the\n",
        "area'''\n",
        "#Ans:-\n",
        "class Rectangle:\n",
        "  def __init__(self,length,width):\n",
        "    self.length=length\n",
        "    self.width=width\n",
        "  def set_dimensions(self):\n",
        "    return self.length,self.width\n",
        "  def area(self):\n",
        "    return self.length*self.width\n",
        "obj=Rectangle(5,6)\n",
        "obj.area()"
      ],
      "metadata": {
        "colab": {
          "base_uri": "https://localhost:8080/"
        },
        "id": "Z0DfOVagT-hj",
        "outputId": "2e714173-16e9-4b1a-fe83-308dda9072bb"
      },
      "execution_count": 68,
      "outputs": [
        {
          "output_type": "execute_result",
          "data": {
            "text/plain": [
              "30"
            ]
          },
          "metadata": {},
          "execution_count": 68
        }
      ]
    },
    {
      "cell_type": "code",
      "source": [
        "'''14. Create a class Employee with a method calculate_salary() that computes the salary based on hours worked\n",
        "and hourly rate. Create a derived class Manager that adds a bonus to the salary'''\n",
        "#Ans:-\n",
        "class Employee:\n",
        "  def __init__(self,hours_worked,hourly_rate):\n",
        "    self.hours_worked=hours_worked\n",
        "    self.hourly_rate=hourly_rate\n",
        "  def calculate_salary(self):\n",
        "    return self.hours_worked*self.hourly_rate\n",
        "  def __str__(self):\n",
        "    return f\"hours_worked:{self.hours_worked},hourly_rate:{self.hourly_rate}\"\n",
        "class Manager(Employee):\n",
        "  def __init__(self,hours_worked,hourly_rate,bonus):\n",
        "    super().__init__(hours_worked,hourly_rate)\n",
        "    self.bonus=bonus\n",
        "  def calculate_salary(self):\n",
        "       return super().calculate_salary()+self.bonus\n",
        "  def __str__(self):\n",
        "    return f\"hours_worked:{self.hours_worked},hourly_rate:{self.hourly_rate},bonus:{self.bonus}\"\n",
        "obj=Employee(8,30)\n",
        "obj1=Manager(12,40,70)\n",
        "obj1.calculate_salary()\n"
      ],
      "metadata": {
        "colab": {
          "base_uri": "https://localhost:8080/"
        },
        "id": "7TAENRtQUBR8",
        "outputId": "ea70eb92-f079-4085-db61-d043058cbd97"
      },
      "execution_count": 74,
      "outputs": [
        {
          "output_type": "execute_result",
          "data": {
            "text/plain": [
              "550"
            ]
          },
          "metadata": {},
          "execution_count": 74
        }
      ]
    },
    {
      "cell_type": "code",
      "source": [
        "'''15. Create a class Product with attributes name, price, and quantity. Implement a method total_price() that\n",
        "calculates the total price of the product.'''\n",
        "#Ans:-\n",
        "class Product:\n",
        "  def __init__(self,name,price,quantity):\n",
        "    self.name=name\n",
        "    self.price=price\n",
        "    self.quantity=quantity\n",
        "  def total_price(self):\n",
        "    return self.price*self.quantity\n",
        "obj=Product(\"mobile\",50000,2)\n",
        "obj.total_price()"
      ],
      "metadata": {
        "colab": {
          "base_uri": "https://localhost:8080/"
        },
        "id": "eQbfWKOnZAo3",
        "outputId": "69d98991-b84d-44dc-e533-4ad0d36f5fab"
      },
      "execution_count": 76,
      "outputs": [
        {
          "output_type": "execute_result",
          "data": {
            "text/plain": [
              "100000"
            ]
          },
          "metadata": {},
          "execution_count": 76
        }
      ]
    },
    {
      "cell_type": "code",
      "source": [
        "from abc import abstractmethod\n",
        "'''16. Create a class Animal with an abstract method sound(). Create two derived classes Cow and Sheep that\n",
        "implement the sound() method.'''\n",
        "#Ans:-\n",
        "class Animal:\n",
        "  @abstractmethod\n",
        "  def sound(self):\n",
        "    pass\n",
        "class Cow(Animal):\n",
        "  def sound(self):\n",
        "    print(\"moo\")\n",
        "class Sheep(Animal):\n",
        "  def sound(self):\n",
        "    print(\"baa\")\n",
        "obj=Cow()\n",
        "obj1=Sheep()\n",
        "obj1.sound()"
      ],
      "metadata": {
        "colab": {
          "base_uri": "https://localhost:8080/"
        },
        "id": "mfhtAZGsZcCg",
        "outputId": "f98e6af5-5801-49ef-c8bc-0806db57535c"
      },
      "execution_count": 78,
      "outputs": [
        {
          "output_type": "stream",
          "name": "stdout",
          "text": [
            "baa\n"
          ]
        }
      ]
    },
    {
      "cell_type": "code",
      "source": [
        "'''17. Create a class Book with attributes title, author, and year_published. Add a method get_book_info() that\n",
        "returns a formatted string with the book's details.'''\n",
        "#Ans:-\n",
        "class Book:\n",
        "  def __init__(self,tittle,author,year_published):\n",
        "    self.tittle=tittle\n",
        "    self.author=author\n",
        "    self.year_published=year_published\n",
        "  def get_details(self):\n",
        "    return f\"tittle:{self.tittle},author:{self.author},year_published:{self.year_published}\"\n",
        "obj=Book(\"python\",\"gagan\",2023)\n",
        "obj.get_details()"
      ],
      "metadata": {
        "colab": {
          "base_uri": "https://localhost:8080/",
          "height": 35
        },
        "id": "-gg7lF69aj2J",
        "outputId": "4fa35e2b-38c3-4dca-cdd2-0d2b348966ba"
      },
      "execution_count": 79,
      "outputs": [
        {
          "output_type": "execute_result",
          "data": {
            "text/plain": [
              "'tittle:python,author:gagan,year_published:2023'"
            ],
            "application/vnd.google.colaboratory.intrinsic+json": {
              "type": "string"
            }
          },
          "metadata": {},
          "execution_count": 79
        }
      ]
    },
    {
      "cell_type": "code",
      "source": [
        "'''18. Create a class House with attributes address and price. Create a derived class Mansion that adds an\n",
        "attribute number_of_rooms.'''\n",
        "#Ans:-\n",
        "class House:\n",
        "  def __init__(self,address,price):\n",
        "    self.address=address\n",
        "    self.price=price\n",
        "  def  __str__(self:):\n",
        "    return f\"address:{self.address},price:{self.price}\"\n",
        "class Mansion(House):\n",
        "  def __init__(self,address,price,number_of_rooms):\n",
        "    super().__init__(address,price)\n",
        "    self.number_of_rooms=number\n",
        "  def __str__(self):\n",
        "    return f\"address:{self.address},price:{self.price},number_of_rooms:{self.number_of_rooms}\""
      ],
      "metadata": {
        "id": "GEalH0nMa-VZ"
      },
      "execution_count": null,
      "outputs": []
    },
    {
      "cell_type": "code",
      "source": [],
      "metadata": {
        "id": "tGJfezKrbAgo"
      },
      "execution_count": null,
      "outputs": []
    }
  ]
}